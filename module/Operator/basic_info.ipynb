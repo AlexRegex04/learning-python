{
 "cells": [
  {
   "cell_type": "code",
   "execution_count": 6,
   "id": "fbaf36a4",
   "metadata": {},
   "outputs": [],
   "source": [
    "import operator\n",
    "from pprint import pprint as print\n",
    "# print(dir(operator))"
   ]
  }
 ],
 "metadata": {
  "kernelspec": {
   "display_name": "Python 3 (ipykernel)",
   "language": "python",
   "name": "python3"
  },
  "language_info": {
   "codemirror_mode": {
    "name": "ipython",
    "version": 3
   },
   "file_extension": ".py",
   "mimetype": "text/x-python",
   "name": "python",
   "nbconvert_exporter": "python",
   "pygments_lexer": "ipython3",
   "version": "3.11.3"
  }
 },
 "nbformat": 4,
 "nbformat_minor": 5
}
