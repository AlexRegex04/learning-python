{
 "cells": [
  {
   "cell_type": "code",
   "execution_count": 1,
   "id": "95e71e37",
   "metadata": {},
   "outputs": [
    {
     "name": "stdout",
     "output_type": "stream",
     "text": [
      "1\n",
      "6\n",
      "1728\n"
     ]
    }
   ],
   "source": [
    "# +, -, *, %,/, //, **\n",
    "\n",
    "# print(10+10+10)\n",
    "# print(100-20)\n",
    "# print(100*100)\n",
    "# Modulus\n",
    "print(10 % 3)\n",
    "\n",
    "print(19//3)\n",
    "# exponential\n",
    "print(12**3)\n",
    "\n",
    "# !Assignment operator (=, -=, +=, /=, *= , %=, //=, **=)\n",
    "x = 100\n",
    "# x = x-2 # x -= 1\n",
    "# x -=2\n",
    "# x = x+10 # x += 10\n",
    "# x +=10\n",
    "\n",
    "# x = x/10 # x /=10\n",
    "# x = x*10 # x *= 10\n",
    "# x = x % 3 # x %= 3\n",
    "# x = x**2 # x **= 2\n",
    "\n",
    "# !Boolean operator (==, !=, <, <= ,>=,> , is, and, not)\n",
    "# print(\"==\", 10 == 20)\n",
    "# print(\"!=\" , 10 != 20)\n",
    "# print(10>20)\n",
    "# print(20<10)\n",
    "\n",
    "# print(10>=10)\n",
    "# print(20<=20)\n",
    "# print(\"is\",10 is not 20)\n",
    "\n",
    "# x = ['rohim', 'korim', 'abdullah']\n",
    "# print('x' not in x)\n",
    "# print(\"and\", (10 and 100 and 20))\n",
    "\n",
    "# without 0 /None\n",
    "\n",
    "# 1 and 1 = true\n",
    "# 1 and 0 = flase"
   ]
  },
  {
   "cell_type": "markdown",
   "id": "7586ede3",
   "metadata": {},
   "source": [
    "- OPERATORS: These are the special symbols. Eg- + , * , /, etc.\n",
    "- OPERAND: It is the value on which the operator is applied.\n",
    "  \n",
    "### Types of Operators in Python\n",
    "1. Arithmetic Operators\n",
    "2. Comparison Operators\n",
    "3. Logical Operators\n",
    "4. Bitwise Operators\n",
    "5. Assignment Operators\n",
    "6. Identity Operators and Membership Operators"
   ]
  },
  {
   "cell_type": "markdown",
   "id": "28b968f6",
   "metadata": {},
   "source": [
    "| Operator | Description                                           | Syntax   |\n",
    "|----------|-------------------------------------------------------|----------|\n",
    "| +        | Addition: adds two operands                            | x + y    |\n",
    "| -        | Subtraction: subtracts two operands                   | x - y    |\n",
    "| *        | Multiplication: multiplies two operands                | x * y    |\n",
    "| /        | Division (float): divides the first operand by the second | x / y  |\n",
    "| //       | Division (floor): divides the first operand by the second | x // y |\n",
    "| %        | Modulus: returns the remainder when the first operand is divided by the second | x % y |\n",
    "| **       | Power: Returns first raised to power second            | x ** y   |\n"
   ]
  },
  {
   "cell_type": "markdown",
   "id": "55995553",
   "metadata": {},
   "source": [
    "\n",
    "#### পাইথনে পাটিগণিত অপারেটরদের অগ্রাধিকার নিম্নরূপ:\n",
    "\n",
    "- P - বন্ধনী\n",
    "- E - সূচক\n",
    "- M – গুণ (গুণ এবং ভাগের একই অগ্রাধিকার রয়েছে)\n",
    "- D - Division\n",
    "- A - যোগ (যোগ এবং বিয়োগের একই অগ্রাধিকার রয়েছে)\n",
    "- S - বিয়োগ"
   ]
  },
  {
   "cell_type": "markdown",
   "id": "8446501a",
   "metadata": {},
   "source": [
    "### **Comparison Operators**:\n",
    "\n",
    "| Operator | Description                                    | Syntax |\n",
    "|----------|------------------------------------------------|--------|\n",
    "| >        | Greater than: True if the left operand is greater than the right | x > y  |\n",
    "| <        | Less than: True if the left operand is less than the right    | x < y  |\n",
    "| ==       | Equal to: True if both operands are equal        | x == y |\n",
    "| !=       | Not equal to: True if operands are not equal     | x != y |\n",
    "| >=       | Greater than or equal to: True if the left operand is greater than or equal to the right | x >= y |\n",
    "| <=       | Less than or equal to: True if the left operand is less than or equal to the right    | x <= y |\n"
   ]
  },
  {
   "cell_type": "markdown",
   "id": "0bb7e63b",
   "metadata": {},
   "source": [
    "### **Logical Operators:**\n",
    "\n",
    "| Operator | Description                                       | Syntax  |\n",
    "|----------|---------------------------------------------------|---------|\n",
    "| and      | Logical AND: True if both operands are true       | x and y |\n",
    "| or       | Logical OR: True if either operand is true         | x or y  |\n",
    "| not      | Logical NOT: True if the operand is false         | not x   |\n",
    "### The precedence of Logical Operators in python is as follows:\n",
    "\n",
    "1. Logical not\n",
    "2. logical and\n",
    "3. logical or"
   ]
  },
  {
   "cell_type": "markdown",
   "id": "c81e3993",
   "metadata": {},
   "source": [
    "### **Bitwise Operators**:\n",
    "\n",
    "| Operator | Description                        | Syntax  |\n",
    "|----------|------------------------------------|---------|\n",
    "| &        | Bitwise AND: Performs AND operation on each bit | x & y |\n",
    "| \\|       | Bitwise OR: Performs OR operation on each bit  | x \\| y |\n",
    "| ~        | Bitwise NOT: Inverts the bits (1's complement) | ~x    |\n",
    "| ^        | Bitwise XOR: Performs XOR on each bit | x ^ y  |\n",
    "| >>       | Bitwise right shift: Shifts bits to the right | x >> n |\n",
    "| <<       | Bitwise left shift: Shifts bits to the left  | x << n |\n",
    "\n",
    "### The precedence of Bitwise Operators in python is as follows:\n",
    "\n",
    "1. Bitwise NOT\n",
    "2. Bitwise Shift\n",
    "3. Bitwise AND\n",
    "4. Bitwise XOR\n",
    "5. Bitwise OR"
   ]
  },
  {
   "cell_type": "markdown",
   "id": "a615d263",
   "metadata": {},
   "source": [
    "### **Assignment Operators:**\n",
    "\n",
    "| Operator | Description                                             | Syntax         |\n",
    "|----------|---------------------------------------------------------|----------------|\n",
    "| =        | Assigns the value of the right side to the left operand | x = y + z      |\n",
    "| +=       | Add AND: Adds right operand to the left operand and assigns the result to the left operand | a += b (Equivalent to a = a + b) |\n",
    "| -=       | Subtract AND: Subtracts right operand from left operand and assigns the result to the left operand | a -= b (Equivalent to a = a - b) |\n",
    "| *=       | Multiply AND: Multiplies right operand with left operand and assigns the result to the left operand | a *= b (Equivalent to a = a * b) |\n",
    "| /=       | Divide AND: Divides left operand by right operand and assigns the result to the left operand | a /= b (Equivalent to a = a / b) |\n",
    "| %=       | Modulus AND: Takes modulus using left and right operands and assigns the result to the left operand | a %= b (Equivalent to a = a % b) |\n",
    "| //=      | Divide(floor) AND: Divides left operand by right operand and assigns the floor value to the left operand | a //= b (Equivalent to a = a // b) |\n",
    "| **=      | Exponent AND: Calculates exponentiation value and assigns the result to the left operand | a **= b (Equivalent to a = a ** b) |\n",
    "| &=       | Bitwise AND: Performs Bitwise AND on operands and assigns the result to the left operand | a &= b (Equivalent to a = a & b) |\n",
    "| \\|=      | Bitwise OR: Performs Bitwise OR on operands and assigns the result to the left operand | a \\|= b (Equivalent to a = a \\| b) |\n",
    "| ^=       | Bitwise XOR: Performs Bitwise XOR on operands and assigns the result to the left operand | a ^= b (Equivalent to a = a ^ b) |\n",
    "| >>=      | Bitwise right shift: Shifts bits to the right and assigns the result to the left operand | a >>= b (Equivalent to a = a >> b) |\n",
    "| <<=      | Bitwise left shift: Shifts bits to the left and assigns the result to the left operand | a <<= b (Equivalent to a = a << b) |\n"
   ]
  },
  {
   "cell_type": "markdown",
   "id": "4b8d92f9",
   "metadata": {},
   "source": [
    "### **Identity Operators:**\n",
    "\n",
    "| Operator | Description                                   |\n",
    "|----------|-----------------------------------------------|\n",
    "| is       | True if the operands are identical            |\n",
    "| is not   | True if the operands are not identical        |\n"
   ]
  },
  {
   "cell_type": "markdown",
   "id": "03afcf1b",
   "metadata": {},
   "source": [
    "### **Membership Operators**:\n",
    "\n",
    "| Operator | Description                                   |\n",
    "|----------|-----------------------------------------------|\n",
    "| in       | True if value is found in the sequence        |\n",
    "| not in   | True if value is not found in the sequence    |\n",
    "\n",
    "```python\n",
    "\n",
    "x = 24\n",
    "y = 20\n",
    "list = [10, 20, 30, 40, 50]\n",
    "if (x not in list):\n",
    "    print(\"x is NOT present in given list\")\n",
    "else:\n",
    "    print(\"x is present in given list\")\n",
    " \n",
    "if (y in list):\n",
    "    print(\"y is present in given list\")\n",
    "else:\n",
    "    print(\"y is NOT present in given list\")\n",
    "```\n"
   ]
  },
  {
   "cell_type": "markdown",
   "id": "138db3bc",
   "metadata": {},
   "source": [
    "### **Ternary Operator in Python**\n",
    "\n",
    "```markdown\n",
    "Syntax :  [on_true] if [expression] else [on_false] \n",
    "```\n",
    "\n",
    "```python\n",
    "a, b = 10, 20\n",
    "min = a if a < b else b\n",
    "print(min)\n",
    "```"
   ]
  }
 ],
 "metadata": {
  "kernelspec": {
   "display_name": "Python 3 (ipykernel)",
   "language": "python",
   "name": "python3"
  },
  "language_info": {
   "codemirror_mode": {
    "name": "ipython",
    "version": 3
   },
   "file_extension": ".py",
   "mimetype": "text/x-python",
   "name": "python",
   "nbconvert_exporter": "python",
   "pygments_lexer": "ipython3",
   "version": "3.11.3"
  }
 },
 "nbformat": 4,
 "nbformat_minor": 5
}
