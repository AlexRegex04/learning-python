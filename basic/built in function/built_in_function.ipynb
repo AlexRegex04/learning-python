{
 "cells": [
  {
   "cell_type": "markdown",
   "id": "66a56f92",
   "metadata": {},
   "source": [
    "####  **any() function**\n",
    "যেকোনো আইটেম সত্য হলে যে কোনো রিটার্ন করে এবং খালি হলে মিথ্যা বা সব মিথ্যা হলে ফেরত দেয়।\n",
    "\n",
    "`Syntax: any(list of iterables)`"
   ]
  },
  {
   "cell_type": "code",
   "execution_count": 11,
   "id": "a8906cc0",
   "metadata": {},
   "outputs": [
    {
     "name": "stdout",
     "output_type": "stream",
     "text": [
      "False\n",
      "True\n",
      "True\n",
      "False\n"
     ]
    }
   ],
   "source": [
    "# Since all are false, false is returned\n",
    "print(any([False, False, False, False]))\n",
    "\n",
    "# Here the method will short-circuit at the\n",
    "# second item (True) and will return True.\n",
    "print(any([False, True, False, False]))\n",
    "\n",
    "# Here the method will short-circuit at the\n",
    "# first (True) and will return True.\n",
    "print(any([True, False, False, False]))\n",
    "\n",
    "# empty\n",
    "print(any([]))"
   ]
  },
  {
   "cell_type": "markdown",
   "id": "96b096b0",
   "metadata": {},
   "source": [
    " #### **all() function**\n",
    " Syntax: all(list of iterables)"
   ]
  },
  {
   "cell_type": "code",
   "execution_count": 10,
   "id": "c308ab17",
   "metadata": {},
   "outputs": [
    {
     "name": "stdout",
     "output_type": "stream",
     "text": [
      "True\n",
      "False\n",
      "False\n",
      "True\n"
     ]
    }
   ],
   "source": [
    "# Here all the iterables are True so all\n",
    "# will return True and the same will be printed\n",
    "print(all([True, True, True, True]))\n",
    "\n",
    "# Here the method will short-circuit at the\n",
    "# first item (False) and will return False.\n",
    "print(all([False, True, True, False]))\n",
    "\n",
    "# This statement will return False, as no\n",
    "# True is found in the iterables\n",
    "print(all([False, False, False]))\n",
    "# Empty\n",
    "print(all([]))"
   ]
  }
 ],
 "metadata": {
  "kernelspec": {
   "display_name": "Python 3 (ipykernel)",
   "language": "python",
   "name": "python3"
  },
  "language_info": {
   "codemirror_mode": {
    "name": "ipython",
    "version": 3
   },
   "file_extension": ".py",
   "mimetype": "text/x-python",
   "name": "python",
   "nbconvert_exporter": "python",
   "pygments_lexer": "ipython3",
   "version": "3.11.3"
  }
 },
 "nbformat": 4,
 "nbformat_minor": 5
}
