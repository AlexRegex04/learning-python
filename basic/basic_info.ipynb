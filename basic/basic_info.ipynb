{
 "cells": [
  {
   "cell_type": "code",
   "execution_count": 3,
   "id": "0b1bd84d",
   "metadata": {},
   "outputs": [
    {
     "name": "stdout",
     "output_type": "stream",
     "text": [
      "test"
     ]
    },
    {
     "data": {
      "text/plain": [
       "4"
      ]
     },
     "execution_count": 3,
     "metadata": {},
     "output_type": "execute_result"
    }
   ],
   "source": [
    "import sys\n",
    "sys.stdout.write(\"test\")"
   ]
  },
  {
   "cell_type": "code",
   "execution_count": 6,
   "id": "0fa2fadc",
   "metadata": {},
   "outputs": [
    {
     "name": "stdout",
     "output_type": "stream",
     "text": [
      "2\n",
      "<class 'frozenset'>\n"
     ]
    }
   ],
   "source": [
    "x, y, z = 1000, 2000, 300\n",
    "x = [1, 2, 3, 4, 5]\n",
    "# index <= -1, -2, -3 ,-4\n",
    "# index => 0,1,2,3,4\n",
    "print(x[1])\n",
    "x = {1, 2, 3, 4, 5}\n",
    "x = frozenset(x)\n",
    "print(type(x))\n",
    "# tuple =>()\n",
    "# list => []\n",
    "# dict/set/frozenset => {}\n",
    "# int, str, float, range, dict, tuple, list, set, bool, frozenset\n",
    "a = range(10, 20)\n",
    "# range(include, without out include)\n",
    "# print(list(a))\n",
    "# Boolean\n",
    "# x = True or False\n",
    "# x = 100"
   ]
  },
  {
   "cell_type": "code",
   "execution_count": 7,
   "id": "356d5c9c",
   "metadata": {},
   "outputs": [
    {
     "name": "stdout",
     "output_type": "stream",
     "text": [
      "fsdflfdsxx"
     ]
    }
   ],
   "source": [
    "print(\"fsdflfds\", end=\" \")"
   ]
  },
  {
   "cell_type": "code",
   "execution_count": 9,
   "id": "ff1285eb",
   "metadata": {},
   "outputs": [
    {
     "name": "stdout",
     "output_type": "stream",
     "text": [
      "GFG\n",
      "09-12-2016\n",
      "MD@RAKIBUL\n"
     ]
    }
   ],
   "source": [
    "\n",
    "\n",
    "# code for disabling the softspace feature\n",
    "print('G', 'F', 'G', sep='')\n",
    "\n",
    "# for formatting a date\n",
    "print('09', '12', '2016', sep='-')\n",
    "\n",
    "# another example\n",
    "print('MD', 'RAKIBUL', sep='@')"
   ]
  },
  {
   "cell_type": "markdown",
   "id": "12e8cc0c",
   "metadata": {},
   "source": [
    "#### সময়ের জটিলতা:\n",
    "প্রিন্ট() ফাংশনের সময় জটিলতা হল O(n), যেখানে n হল মোট অক্ষর সংখ্যা প্রিন্ট করা। যাইহোক, একটি বিভাজক নির্দিষ্ট করার সময় জটিলতা হল O(1), কারণ এটি একটি ধ্রুবক সময় অপারেশন।\n",
    "\n",
    "#### স্পেস কমপ্লেক্সিটি:\n",
    "কোডের স্পেস কমপ্লেক্সিটিও হল O(n), যেখানে n হল মোট অক্ষর সংখ্যা প্রিন্ট করা। এর কারণ হল print() ফাংশনকে স্ট্রিং এবং বিভাজক মুদ্রণ করার আগে মেমরি বরাদ্দ করতে হবে।\n",
    "\n"
   ]
  }
 ],
 "metadata": {
  "kernelspec": {
   "display_name": "Python 3 (ipykernel)",
   "language": "python",
   "name": "python3"
  },
  "language_info": {
   "codemirror_mode": {
    "name": "ipython",
    "version": 3
   },
   "file_extension": ".py",
   "mimetype": "text/x-python",
   "name": "python",
   "nbconvert_exporter": "python",
   "pygments_lexer": "ipython3",
   "version": "3.11.3"
  }
 },
 "nbformat": 4,
 "nbformat_minor": 5
}
