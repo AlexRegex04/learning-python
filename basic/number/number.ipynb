{
 "cells": [
  {
   "cell_type": "code",
   "execution_count": 8,
   "id": "5f1bcb07",
   "metadata": {},
   "outputs": [
    {
     "name": "stdout",
     "output_type": "stream",
     "text": [
      "World\n"
     ]
    }
   ],
   "source": [
    "number = 42\n",
    "binary_format = \"{:b}\".format(number)  # Binary format\n",
    "\n",
    "octal_format = \"{:o}\".format(number)  # Octal format\n",
    "hex_format = \"{:x}\".format(number)   # Hexadecimal format (lowercase)\n",
    "exp_format = \"{:e}\".format(number)   # Exponential notation\n",
    "float_format = \"{:f}\".format(3.14159)  # Floating-point decimal\n",
    "string_repr_format = \"{!r}\".format(\"Hello\")  # String format (using repr())\n",
    "string_str_format = \"{!s}\".format(\"World\")  # String format (using str())"
   ]
  },
  {
   "cell_type": "markdown",
   "id": "5d8b48e6",
   "metadata": {},
   "source": [
    "\n",
    "- **d:** Decimal integer\n",
    "- **b:** Binary format\n",
    "- **o:** Octal format\n",
    "- **u:** Obsolete and equivalent to 'd' (Python 2.x; not available in Python 3.x)\n",
    "- **x or X:** Hexadecimal format (lowercase or uppercase)\n",
    "- **e or E:** Exponential notation (lowercase or uppercase)\n",
    "- **f or F:** Floating-point decimal (lowercase or uppercase)\n",
    "- **g or G:** General format (lowercase or uppercase)\n",
    "- **c:** Single Character\n",
    "- **r:** String format (using repr())\n",
    "- **s:** String Format (using str())\n",
    "- **%:** Percentage table"
   ]
  }
 ],
 "metadata": {
  "kernelspec": {
   "display_name": "Python 3 (ipykernel)",
   "language": "python",
   "name": "python3"
  },
  "language_info": {
   "codemirror_mode": {
    "name": "ipython",
    "version": 3
   },
   "file_extension": ".py",
   "mimetype": "text/x-python",
   "name": "python",
   "nbconvert_exporter": "python",
   "pygments_lexer": "ipython3",
   "version": "3.11.3"
  }
 },
 "nbformat": 4,
 "nbformat_minor": 5
}
