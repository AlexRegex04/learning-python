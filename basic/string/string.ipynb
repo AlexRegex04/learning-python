{
 "cells": [
  {
   "cell_type": "code",
   "execution_count": 1,
   "id": "d5b67c1b",
   "metadata": {},
   "outputs": [
    {
     "name": "stdout",
     "output_type": "stream",
     "text": [
      "True\n",
      "False\n"
     ]
    }
   ],
   "source": [
    "# check\n",
    "txt = \"The best things in life are free!\"\n",
    "print('The' in txt)\n",
    "print(\"The\" not in txt)"
   ]
  },
  {
   "cell_type": "code",
   "execution_count": 2,
   "id": "87099287",
   "metadata": {},
   "outputs": [
    {
     "name": "stdout",
     "output_type": "stream",
     "text": [
      "T\n",
      "best things in life are free!\n",
      "The \n"
     ]
    }
   ],
   "source": [
    "# Slicing\n",
    "print(txt[0:1])\n",
    "print(txt[4:])\n",
    "print(txt[:4])"
   ]
  },
  {
   "cell_type": "code",
   "execution_count": 14,
   "id": "3f93087e",
   "metadata": {},
   "outputs": [
    {
     "name": "stdout",
     "output_type": "stream",
     "text": [
      "my name is rakib\n",
      "my name is rakib. I am 200 years old\n",
      "my name is rakib. I am 10 years old\n",
      "Hello, Rakib. You are 25370.\n",
      "I am Rakib . I am 11000 old\n"
     ]
    }
   ],
   "source": [
    "# python format\n",
    "x = \"my name is {}\"\n",
    "print(x.format('rakib'))\n",
    "x = \"my name is {0}. I am {1} years old\"\n",
    "print(x.format('rakib', 200))\n",
    "x = \"my name is {name}. I am {age} years old\"\n",
    "print(x.format(age=10, name='rakib'))\n",
    "\n",
    "# Old version\n",
    "# ?String (%s)\n",
    "# ?Integer (%i)\n",
    "# ?Float (%f)\n",
    "# ?Double (%d)\n",
    "\n",
    "# Character(%c) => int or char\n",
    "name = \"Rakib\"\n",
    "age = 11000\n",
    "print(\"Hello, %s. You are %o.\" % (name, age))\n",
    "\n",
    "# Best for practice\n",
    "print(f'I am {name} . I am {age} old')"
   ]
  },
  {
   "cell_type": "code",
   "execution_count": 15,
   "id": "845b55f7",
   "metadata": {},
   "outputs": [
    {
     "name": "stdout",
     "output_type": "stream",
     "text": [
      "I'm rakib\n",
      "{'a': 1, 'b': 2, 'c': 3, 'd': 4}\n"
     ]
    }
   ],
   "source": [
    "# Python escape character\n",
    "x = 'I\\'m rakib'\n",
    "print(x)\n",
    "\n",
    "a = {'a': 1, \"b\": 2}\n",
    "b = {\"c\": 3, \"d\": 4}\n",
    "print({**a, **b})"
   ]
  }
 ],
 "metadata": {
  "kernelspec": {
   "display_name": "Python 3 (ipykernel)",
   "language": "python",
   "name": "python3"
  },
  "language_info": {
   "codemirror_mode": {
    "name": "ipython",
    "version": 3
   },
   "file_extension": ".py",
   "mimetype": "text/x-python",
   "name": "python",
   "nbconvert_exporter": "python",
   "pygments_lexer": "ipython3",
   "version": "3.11.3"
  }
 },
 "nbformat": 4,
 "nbformat_minor": 5
}
