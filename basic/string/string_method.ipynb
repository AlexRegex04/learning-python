{
 "cells": [
  {
   "cell_type": "code",
   "execution_count": 11,
   "id": "5a76f358",
   "metadata": {},
   "outputs": [
    {
     "name": "stdout",
     "output_type": "stream",
     "text": [
      "True\n",
      "['M', 'D', ' ', 'R', 'A', 'K', 'I', 'B', 'U', 'L', ' ', 'I', 'S', 'L', 'A', 'M']\n",
      "['M', 'D', ' ', 'R', 'A', 'K', 'I', 'B', 'U', 'L', ' ', 'I', 'S', 'L', 'A', 'M']\n",
      "['M', 'D', ' ', 'R', 'A', 'K', 'I', 'B', 'U', 'L', ' ', 'I', 'S', 'L', 'A', 'M']\n"
     ]
    }
   ],
   "source": [
    "# print(x.capitalize())\n",
    "# print(x.casefold())\n",
    "# print(x.count('O'))\n",
    "\n",
    "# !Boolean\n",
    "# print(x.endswith('M', 0, 8))\n",
    "# print(x.find('m')) # If couldn't find (-1)\n",
    "# print(x.find(\"MO\"))\n",
    "# print(x.index('Mm')) # If couldn't find raise an error\n",
    "\n",
    "# x = \"I am {:%} years old\"\n",
    "# print(x.format(100))\n",
    "\n",
    "x = \"1010\"\n",
    "print(x.isdecimal())\n",
    "# !print(x.islower())\n",
    "# !print(x.isnumeric())\n",
    "\n",
    "# print(' '.isspace())\n",
    "# print(\"Rakib\".istitle())\n",
    "# print(\"RAKIB\".isupper())\n",
    "\n",
    "# myDict = {\"name\": \"John\", \"country\": \"Norway\"}\n",
    "# myList = ['My', \"name\", \"Rakib\"]\n",
    "# mySeparator = \" \"\n",
    "# x = mySeparator.join(myList)\n",
    "# print(x)\n",
    "x = 'man is man is Mortal'\n",
    "# print(x.rjust(30, 'A'))\n",
    "# print(x.rpartition('is'))\n",
    "# y = x.split('m', 2)\n",
    "# print(' '.join(y))\n",
    "string = \"MD RAKIBUL ISLAM\"\n",
    "print([*string])\n",
    "\n",
    "lst = []\n",
    "for letter in string:\n",
    "    lst.append(letter)\n",
    "\n",
    "letter = [x for x in string]\n",
    "print(list(string))\n",
    "lst = []\n",
    "lst.extend(string)\n",
    "print(lst)"
   ]
  }
 ],
 "metadata": {
  "kernelspec": {
   "display_name": "Python 3 (ipykernel)",
   "language": "python",
   "name": "python3"
  },
  "language_info": {
   "codemirror_mode": {
    "name": "ipython",
    "version": 3
   },
   "file_extension": ".py",
   "mimetype": "text/x-python",
   "name": "python",
   "nbconvert_exporter": "python",
   "pygments_lexer": "ipython3",
   "version": "3.11.3"
  }
 },
 "nbformat": 4,
 "nbformat_minor": 5
}
