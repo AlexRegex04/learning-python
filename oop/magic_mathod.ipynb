{
 "cells": [
  {
   "cell_type": "markdown",
   "id": "3b1a1f1c",
   "metadata": {},
   "source": [
    "Here is a formatted version of the operators and their corresponding magic methods:\n",
    "\n",
    "### Arithmetic Operators:\n",
    "| Operator | Magic Method           |\n",
    "|----------|------------------------|\n",
    "| +        | `__add__(self, other)` |\n",
    "| -        | `__sub__(self, other)` |\n",
    "| *        | `__mul__(self, other)` |\n",
    "| /        | `__truediv__(self, other)` |\n",
    "| //       | `__floordiv__(self, other)` |\n",
    "| %        | `__mod__(self, other)` |\n",
    "| **       | `__pow__(self, other)` |\n",
    "| >>       | `__rshift__(self, other)` |\n",
    "| <<       | `__lshift__(self, other)` |\n",
    "| &        | `__and__(self, other)` |\n",
    "| \\|       | `__or__(self, other)` |\n",
    "| ^        | `__xor__(self, other)` |\n",
    "\n",
    "### Comparison Operators:\n",
    "| Operator | Magic Method           |\n",
    "|----------|------------------------|\n",
    "| <        | `__lt__(self, other)` |\n",
    "| >        | `__gt__(self, other)` |\n",
    "| <=       | `__le__(self, other)` |\n",
    "| >=       | `__ge__(self, other)` |\n",
    "| ==       | `__eq__(self, other)` |\n",
    "| !=       | `__ne__(self, other)` |\n",
    "\n",
    "### Assignment Operators:\n",
    "| Operator | Magic Method           |\n",
    "|----------|------------------------|\n",
    "| -=       | `__isub__(self, other)` |\n",
    "| +=       | `__iadd__(self, other)` |\n",
    "| *=       | `__imul__(self, other)` |\n",
    "| /=       | `__idiv__(self, other)` |\n",
    "| //=      | `__ifloordiv__(self, other)` |\n",
    "| %=       | `__imod__(self, other)` |\n",
    "| **=      | `__ipow__(self, other)` |\n",
    "| >>=      | `__irshift__(self, other)` |\n",
    "| <<=      | `__ilshift__(self, other)` |\n",
    "| &=       | `__iand__(self, other)` |\n",
    "| \\|=      | `__ior__(self, other)` |\n",
    "| ^=       | `__ixor__(self, other)` |\n",
    "\n",
    "### Unary Operators:\n",
    "| Operator | Magic Method           |\n",
    "|----------|------------------------|\n",
    "| -        | `__neg__(self)`        |\n",
    "| +        | `__pos__(self)`        |\n",
    "| ~        | `__invert__(self)`     |\n"
   ]
  }
 ],
 "metadata": {
  "kernelspec": {
   "display_name": "Python 3 (ipykernel)",
   "language": "python",
   "name": "python3"
  },
  "language_info": {
   "codemirror_mode": {
    "name": "ipython",
    "version": 3
   },
   "file_extension": ".py",
   "mimetype": "text/x-python",
   "name": "python",
   "nbconvert_exporter": "python",
   "pygments_lexer": "ipython3",
   "version": "3.11.3"
  }
 },
 "nbformat": 4,
 "nbformat_minor": 5
}
