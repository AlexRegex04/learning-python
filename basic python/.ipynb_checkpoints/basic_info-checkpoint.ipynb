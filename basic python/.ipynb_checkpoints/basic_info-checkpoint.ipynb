{
 "cells": [
  {
   "cell_type": "code",
   "execution_count": null,
   "id": "0b1bd84d",
   "metadata": {},
   "outputs": [
    {
     "ename": "",
     "evalue": "",
     "output_type": "error",
     "traceback": [
      "\u001b[1;31mThe file 'basic python\\operator.py' seems to be overriding built in modules and interfering with the startup of the kernel. Consider renaming the file and starting the kernel again.\n",
      "\u001b[1;31mClick <a href='https://aka.ms/kernelFailuresOverridingBuiltInModules'>here</a> for more info."
     ]
    }
   ],
   "source": [
    "import sys\n",
    "print(sys.stdout.fileno)\n",
    "\n",
    "# x, y, z = 1000, 2000, 300\n",
    "# x = [1,2,3,4,5]\n",
    "# # index <= -1, -2, -3 ,-4\n",
    "# # index => 0,1,2,3,4\n",
    "# print(x[1])\n",
    "# x = {1, 2,3,4,5}\n",
    "# x = frozenset(x)\n",
    "# print(type(x))\n",
    "print(\"5434\")\n",
    "# tuple =>()\n",
    "# list => []\n",
    "# dict/set/frozenset => {}\n",
    "\n",
    "# int, str, float, range, dict, tuple, list, set, bool,frozenset\n",
    "# a = range(10, 20)\n",
    "\n",
    "# range(include, without out include)\n",
    "\n",
    "# print(list(a))\n",
    "# Boolean\n",
    "# x = True or False\n",
    "# x = 100\n",
    "\n",
    "# print(type(float(x)))"
   ]
  }
 ],
 "metadata": {
  "kernelspec": {
   "display_name": "Python 3 (ipykernel)",
   "language": "python",
   "name": "python3"
  },
  "language_info": {
   "name": "python",
   "version": "3.11.3"
  }
 },
 "nbformat": 4,
 "nbformat_minor": 5
}
